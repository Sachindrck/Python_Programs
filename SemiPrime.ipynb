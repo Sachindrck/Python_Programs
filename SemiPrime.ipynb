{
 "cells": [
  {
   "cell_type": "markdown",
   "metadata": {},
   "source": [
    "# Check a number is Semiprime or not"
   ]
  },
  {
   "cell_type": "markdown",
   "metadata": {},
   "source": [
    "Prime - A number which is divisible by 1 and the number itself.<br>\n",
    "Ex:<br>\n",
    "(Prime Numbers)<br>\n",
    "3 - 1 x 3<br>\n",
    "5 - 1 x 5<br>\n",
    "13 - 1 x 13<br>\n",
    "\n",
    "(Composite Numbers - not prime)<br>\n",
    "4 - 1 x 2 x 2<br>\n",
    "9 - 1 x 3 x 3<br>\n",
    "28 - 1 x 2 x 2 x 7<br>\n",
    "36 - 1 x 2 x 2 x 3 x 3<br>\n",
    "\n",
    "\n",
    "Semiprime - A natural number that is product of two prime numbers(They may or may not be same).<br>\n",
    "6 - 2 x 3<br>\n",
    "10 - 2 x 5<br>\n",
    "15 - 3 x 5<br>\n",
    "21 - 3 x 7<br>"
   ]
  },
  {
   "cell_type": "code",
   "execution_count": 5,
   "metadata": {},
   "outputs": [
    {
     "name": "stdout",
     "output_type": "stream",
     "text": [
      "Enter a number to check if it's semiprime or not: 8\n",
      "False\n"
     ]
    }
   ],
   "source": [
    "import math\n",
    "\n",
    "def checkSemiPrime(num):\n",
    "    count = 0  # to count the number of factors\n",
    "\n",
    "    for i in range(2, int(math.sqrt(num) + 1)):\n",
    "        while num % i == 0:\n",
    "            num /= i\n",
    "            count += 1\n",
    "            \n",
    "        if count >= 2:\n",
    "            break\n",
    "    if num > 1:\n",
    "        count += 1\n",
    "        \n",
    "    return count == 2\n",
    "\n",
    "num = int(input(\"Enter a number to check if it's semiprime or not: \"))\n",
    "print(checkSemiPrime(num))"
   ]
  },
  {
   "cell_type": "code",
   "execution_count": null,
   "metadata": {},
   "outputs": [],
   "source": []
  }
 ],
 "metadata": {
  "kernelspec": {
   "display_name": "Python 3",
   "language": "python",
   "name": "python3"
  },
  "language_info": {
   "codemirror_mode": {
    "name": "ipython",
    "version": 3
   },
   "file_extension": ".py",
   "mimetype": "text/x-python",
   "name": "python",
   "nbconvert_exporter": "python",
   "pygments_lexer": "ipython3",
   "version": "3.7.3"
  }
 },
 "nbformat": 4,
 "nbformat_minor": 2
}
