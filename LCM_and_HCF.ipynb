{
 "cells": [
  {
   "cell_type": "markdown",
   "metadata": {},
   "source": [
    "num1 = 12 --- 2 x 2 x 3\n",
    "num2 = 15 --- 3 x 5\n",
    "\n",
    "LCM = 60 ---- 2 x 2 x 3 x 5\n",
    "HCF = 3"
   ]
  },
  {
   "cell_type": "code",
   "execution_count": 2,
   "metadata": {},
   "outputs": [
    {
     "name": "stdout",
     "output_type": "stream",
     "text": [
      "420\n"
     ]
    }
   ],
   "source": [
    "# Code to find the LCM of two number.\n",
    "\n",
    "def compute_lcm(x, y):\n",
    "    fm = x * y\n",
    "    \n",
    "    for i in range(2, fm+1):\n",
    "        if (i % x == 0) and (i % y == 0):\n",
    "            lcm = i\n",
    "            break\n",
    "    return lcm\n",
    "    \n",
    "num1 = 20\n",
    "num2 = 21\n",
    "lcm = compute_lcm(num1, num2)\n",
    "print(lcm)\n"
   ]
  },
  {
   "cell_type": "code",
   "execution_count": 5,
   "metadata": {},
   "outputs": [
    {
     "name": "stdout",
     "output_type": "stream",
     "text": [
      "420\n"
     ]
    }
   ],
   "source": [
    "# Code to compute LCM using GCD\n",
    "\n",
    "def compute_gcd(x, y):\n",
    "    \n",
    "    while(y):\n",
    "        x, y = y, x%y\n",
    "        \n",
    "    return x\n",
    "\n",
    "def compute_lcm(x, y):\n",
    "    lcm = (x*y) // compute_gcd(x, y)\n",
    "    \n",
    "    return lcm\n",
    "\n",
    "num1 = 20\n",
    "num2 = 21\n",
    "lcm = compute_lcm(20, 21)\n",
    "\n",
    "print(lcm)"
   ]
  },
  {
   "cell_type": "code",
   "execution_count": 6,
   "metadata": {},
   "outputs": [
    {
     "name": "stdout",
     "output_type": "stream",
     "text": [
      "10\n"
     ]
    }
   ],
   "source": [
    "# Code to find HCF using euclidean Algorithm.\n",
    "\n",
    "def compute_gcd(x, y):\n",
    "    \n",
    "    while(y):\n",
    "        x, y = y, x%y\n",
    "        \n",
    "    return x\n",
    "\n",
    "num1 = 40\n",
    "num2 = 30\n",
    "hcf = compute_gcd(40, 30)\n",
    "print(hcf)"
   ]
  },
  {
   "cell_type": "code",
   "execution_count": null,
   "metadata": {},
   "outputs": [],
   "source": []
  },
  {
   "cell_type": "code",
   "execution_count": null,
   "metadata": {},
   "outputs": [],
   "source": []
  },
  {
   "cell_type": "code",
   "execution_count": null,
   "metadata": {},
   "outputs": [],
   "source": []
  }
 ],
 "metadata": {
  "kernelspec": {
   "display_name": "Python 3",
   "language": "python",
   "name": "python3"
  },
  "language_info": {
   "codemirror_mode": {
    "name": "ipython",
    "version": 3
   },
   "file_extension": ".py",
   "mimetype": "text/x-python",
   "name": "python",
   "nbconvert_exporter": "python",
   "pygments_lexer": "ipython3",
   "version": "3.7.3"
  }
 },
 "nbformat": 4,
 "nbformat_minor": 2
}
