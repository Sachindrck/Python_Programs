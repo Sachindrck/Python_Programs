{
 "cells": [
  {
   "cell_type": "markdown",
   "metadata": {},
   "source": [
    "# Python program to print factorial of a number"
   ]
  },
  {
   "cell_type": "markdown",
   "metadata": {},
   "source": [
    "Factorial representation -> ! 0r |_\n",
    "\n",
    "ex:\n",
    "\n",
    "5! = 5 x 4 x 3 x 2 x 1 = 120\n",
    "10 ! = 10 x 9 x 8 x 7 x 6 x 5 x 4 x 3 x 2 x 1 = "
   ]
  },
  {
   "cell_type": "code",
   "execution_count": null,
   "metadata": {},
   "outputs": [],
   "source": []
  },
  {
   "cell_type": "code",
   "execution_count": 3,
   "metadata": {},
   "outputs": [
    {
     "name": "stdout",
     "output_type": "stream",
     "text": [
      "Enter a number to find it's factorial: 5\n",
      "5! = 120\n"
     ]
    }
   ],
   "source": [
    "# Iterative method\n",
    "\n",
    "def findFactorial(num):\n",
    "    \n",
    "    result = 1\n",
    "    while (num >= 1):\n",
    "        result *= num\n",
    "        num -= 1\n",
    "        \n",
    "    return result\n",
    "\n",
    "\n",
    "x = int(input(\"Enter a number to find it's factorial: \"))\n",
    "xf = findFactorial(x)\n",
    "print(\"{}! = {}\".format(x, xf))\n"
   ]
  },
  {
   "cell_type": "code",
   "execution_count": null,
   "metadata": {},
   "outputs": [],
   "source": [
    "# Recursive method to find a factorial\n",
    "\n"
   ]
  }
 ],
 "metadata": {
  "kernelspec": {
   "display_name": "Python 3",
   "language": "python",
   "name": "python3"
  },
  "language_info": {
   "codemirror_mode": {
    "name": "ipython",
    "version": 3
   },
   "file_extension": ".py",
   "mimetype": "text/x-python",
   "name": "python",
   "nbconvert_exporter": "python",
   "pygments_lexer": "ipython3",
   "version": "3.7.3"
  }
 },
 "nbformat": 4,
 "nbformat_minor": 2
}
